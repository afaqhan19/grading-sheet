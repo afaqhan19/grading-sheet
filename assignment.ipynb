# grading-sheet
grade = int(input("Enter your marks to see your grade= "))
if (grade >= 90):
    print("excellent! you have got A grade")
elif ( grade >= 80):
    print("congrats! you have got B grade")
elif (grade >= 70):
    print("good! you have got C grade, try hard next time :)")
elif (grade >= 60):
    print("nice! you have got D grade. Need hard work :')")
elif (grade < 60):
    print("sorry! bro you got failed")
